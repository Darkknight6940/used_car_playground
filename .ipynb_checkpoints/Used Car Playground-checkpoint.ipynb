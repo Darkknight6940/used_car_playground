{
 "cells": [
  {
   "cell_type": "code",
   "execution_count": null,
   "metadata": {
    "scrolled": true
   },
   "outputs": [],
   "source": [
    "import geopandas as gpd\n",
    "from shapely.geometry import Point, Polygon\n",
    "import matplotlib.pyplot as plt\n",
    "import pandas as pd\n",
    "import json\n",
    "import numpy as np"
   ]
  },
  {
   "cell_type": "code",
   "execution_count": null,
   "metadata": {},
   "outputs": [],
   "source": [
    "usa = gpd.read_file('zipcodes.shp')\n",
    "usa = usa.set_index('ZIP_CODE')"
   ]
  },
  {
   "cell_type": "markdown",
   "metadata": {},
   "source": [
    "# Remove some ZIP Codes that are too far from the continent\n",
    "we are setting Seattle,WA as top left corner and Miami,FL as bottom right corner\n",
    "This is previously done, and result is saved in the shape file"
   ]
  },
  {
   "cell_type": "code",
   "execution_count": null,
   "metadata": {},
   "outputs": [],
   "source": [
    "'''def find_outside(geomlist):\n",
    "    for a in geomlist:\n",
    "        if a[1] < 22:\n",
    "            return 'Yes'\n",
    "    return 'No'\n",
    "\n",
    "usa['geomlist'] = usa['geometry'].apply(lambda x: list(x[0].exterior.coords))\n",
    "usa['detect'] = usa['geomlist'].apply(find_outside)\n",
    "usa = usa.drop(usa[usa.detect == 'Yes'].index)\n",
    "usa = usa.drop(['geomlist','detect'],axis=1)\n",
    "usa.to_file(\"zipcodes.shp\")\n",
    "'''"
   ]
  },
  {
   "cell_type": "markdown",
   "metadata": {},
   "source": [
    "# Focus on NY state right now"
   ]
  },
  {
   "cell_type": "code",
   "execution_count": null,
   "metadata": {},
   "outputs": [],
   "source": [
    "ny = usa[usa['STATE'] == 'NY']\n",
    "plt.rcParams['figure.figsize'] = [20, 10]\n",
    "ny.plot()"
   ]
  },
  {
   "cell_type": "markdown",
   "metadata": {},
   "source": [
    "# Create a Choropleth Maps according to average price"
   ]
  },
  {
   "cell_type": "code",
   "execution_count": null,
   "metadata": {},
   "outputs": [],
   "source": [
    "# with open('usedcar/usedcar.json') as f:\n",
    "#     data = json.load(f)\n",
    "data = pd.read_json('usedcar/usedcar.json',dtype=str)\n",
    "ny.insert(3,'Points',np.NaN)"
   ]
  },
  {
   "cell_type": "code",
   "execution_count": null,
   "metadata": {},
   "outputs": [],
   "source": [
    "data"
   ]
  },
  {
   "cell_type": "markdown",
   "metadata": {},
   "source": [
    "## Analyze 2015 BMW 3 Series"
   ]
  },
  {
   "cell_type": "code",
   "execution_count": null,
   "metadata": {},
   "outputs": [],
   "source": [
    "'''#first collect data and calculate avg price\n",
    "#then put into dataframe\n",
    "avg_price = {}\n",
    "counter = {}\n",
    "\n",
    "#initialize\n",
    "for _,car in data.iterrows():\n",
    "    avg_price[car['zip']] = 0\n",
    "    counter[car['zip']] = 0\n",
    "for _,car in data.iterrows():\n",
    "    avg_price[car['zip']] += int(car['price'].replace(',', ''))\n",
    "    counter[car['zip']] += 1\n",
    "for i in avg_price:\n",
    "    avg_price[i] /= counter[i]\n",
    "\n",
    "for i in avg_price:\n",
    "    ny.at[str(i), 'price'] = avg_price[i]'''"
   ]
  },
  {
   "cell_type": "markdown",
   "metadata": {},
   "source": [
    "## Analyze Multiple Models"
   ]
  },
  {
   "cell_type": "markdown",
   "metadata": {},
   "source": [
    "Selected Models (in order):  \n",
    "2015 BMW 3 Series - c24539  \n",
    "2015 Toyota Camry - c24654  \n",
    "2015 VW Jetta - c24466  \n",
    "2015 MB E-Class - c24582  \n",
    "2015 Honda CRV - c24684  \n",
    "2015 Subaru Forester - c24348  "
   ]
  },
  {
   "cell_type": "code",
   "execution_count": null,
   "metadata": {},
   "outputs": [],
   "source": [
    "models = data.model.unique()\n",
    "print(models)"
   ]
  },
  {
   "cell_type": "code",
   "execution_count": null,
   "metadata": {},
   "outputs": [],
   "source": [
    "#first collect data and calculate avg price\n",
    "#then put into dataframe\n",
    "avg_price = {}\n",
    "counter = {}\n",
    "\n",
    "#initialize\n",
    "for _,car in data.iterrows():\n",
    "    zip_code = car['zip']\n",
    "    avg_price[zip_code] = {}\n",
    "    counter[zip_code] = {}\n",
    "for _,car in data.iterrows():\n",
    "    zip_code = car['zip']\n",
    "    avg_price[zip_code][car['model']] = 0\n",
    "    counter[zip_code][car['model']] = 0\n",
    "\n",
    "for _,car in data.iterrows():\n",
    "    avg_price[car['zip']][car['model']] += int(car['price'].replace(',', ''))\n",
    "    counter[car['zip']][car['model']] += 1\n",
    "\n",
    "for i in avg_price:\n",
    "    for j in avg_price[i]:\n",
    "        avg_price[i][j] /= counter[i][j]\n",
    "\n",
    "#normalize values for each model\n",
    "max_values = {}\n",
    "min_values = {}\n",
    "#init\n",
    "for i in avg_price:\n",
    "    for j in avg_price[i]:\n",
    "        max_values[j] = 0\n",
    "        min_values[j] = 99999\n",
    "\n",
    "for i in avg_price:\n",
    "    for j in avg_price[i]:\n",
    "        price = avg_price[i][j]\n",
    "        max_values[j] = max(max_values[j], price)\n",
    "        #skip 0 (not exist)\n",
    "        if price == 0:\n",
    "            continue\n",
    "        min_values[j] = min(min_values[j], price)\n",
    "\n",
    "for i in avg_price:\n",
    "    for j in avg_price[i]:\n",
    "        if avg_price[i][j] == 0:\n",
    "            continue\n",
    "        avg_price[i][j] = (avg_price[i][j] - min_values[j])/(max_values[j] - min_values[j])\n",
    "\n",
    "#calculate weighted points\n",
    "weighted_points = {}\n",
    "for i in avg_price:\n",
    "    weighted_points[i] = 0\n",
    "\n",
    "for i in avg_price:\n",
    "    counter = 0\n",
    "    for j in avg_price[i]:\n",
    "        if avg_price[i][j] == 0:\n",
    "            continue\n",
    "        counter += 1\n",
    "        weighted_points[i] += avg_price[i][j]\n",
    "    weighted_points[i] /= counter\n",
    "\n",
    "for i in weighted_points:\n",
    "    ny.at[i, 'Points'] = weighted_points[i]"
   ]
  },
  {
   "cell_type": "code",
   "execution_count": null,
   "metadata": {},
   "outputs": [],
   "source": [
    "fig, ax = plt.subplots(1, 1)\n",
    "ny.plot(column='Points',ax=ax, legend=True,cmap='OrRd')"
   ]
  },
  {
   "cell_type": "code",
   "execution_count": null,
   "metadata": {},
   "outputs": [],
   "source": [
    "from bokeh.io import show, output_notebook\n",
    "from bokeh.models import (CDSView, ColorBar, ColumnDataSource,\n",
    "                          CustomJS, CustomJSFilter, \n",
    "                          GeoJSONDataSource, HoverTool,\n",
    "                          LinearColorMapper, Slider)\n",
    "from bokeh.layouts import column, row, widgetbox\n",
    "from bokeh.palettes import brewer\n",
    "from bokeh.plotting import figure\n",
    "# Input GeoJSON source that contains features for plotting\n",
    "ny_source = GeoJSONDataSource(geojson = ny.to_json())\n",
    "output_notebook()"
   ]
  },
  {
   "cell_type": "code",
   "execution_count": null,
   "metadata": {},
   "outputs": [],
   "source": [
    "# Define color palettes\n",
    "palette = brewer['OrRd'][8]\n",
    "palette = palette[::-1] # reverse order of colors so higher values have darker colors\n",
    "# Instantiate LinearColorMapper that linearly maps numbers in a range, into a sequence of colors.\n",
    "color_mapper = LinearColorMapper(palette = palette, low = ny['Points'].min(), high = ny['Points'].max())\n",
    "\n",
    "\n",
    "# Create color bar.\n",
    "color_bar = ColorBar(color_mapper = color_mapper, \n",
    "                     label_standoff = 8,\n",
    "                     width = 500, height = 20,\n",
    "                     border_line_color = None,\n",
    "                     location = (0,0), \n",
    "                     orientation = 'horizontal')\n",
    "\n",
    "# Create figure object.\n",
    "p = figure(title = 'Calculated Weighted Points', \n",
    "           plot_height = 650 ,\n",
    "           plot_width = 950, \n",
    "           toolbar_location = 'below',\n",
    "           tools = \"pan, wheel_zoom, box_zoom, reset\")\n",
    "p.xgrid.grid_line_color = None\n",
    "p.ygrid.grid_line_color = None\n",
    "# Add patch renderer to figure.\n",
    "states = p.patches('xs','ys', source = ny_source,\n",
    "                   fill_color = {'field' :'Points',\n",
    "                                 'transform' : color_mapper},\n",
    "                   line_color = \"gray\", \n",
    "                   line_width = 0.25, \n",
    "                   fill_alpha = 1)\n",
    "# Create hover tool\n",
    "p.add_tools(HoverTool(renderers = [states],\n",
    "                      tooltips = [('PO Name','@PO_NAME'),\n",
    "                                  ('Points','@Points')\n",
    "                                ]))\n",
    "\n",
    "color_bar = ColorBar(color_mapper = color_mapper, \n",
    "                     label_standoff = 8,\n",
    "                     width = 950, height = 20,\n",
    "                     border_line_color = None,\n",
    "                     location = (0,0), \n",
    "                     orientation = 'horizontal')\n",
    "p.add_layout(color_bar, 'below')\n",
    "show(p)"
   ]
  },
  {
   "cell_type": "code",
   "execution_count": null,
   "metadata": {},
   "outputs": [],
   "source": [
    "ny['price'].min()"
   ]
  },
  {
   "cell_type": "code",
   "execution_count": null,
   "metadata": {},
   "outputs": [],
   "source": []
  }
 ],
 "metadata": {
  "kernelspec": {
   "display_name": "Python 3",
   "language": "python",
   "name": "python3"
  },
  "language_info": {
   "codemirror_mode": {
    "name": "ipython",
    "version": 3
   },
   "file_extension": ".py",
   "mimetype": "text/x-python",
   "name": "python",
   "nbconvert_exporter": "python",
   "pygments_lexer": "ipython3",
   "version": "3.7.6"
  }
 },
 "nbformat": 4,
 "nbformat_minor": 4
}
