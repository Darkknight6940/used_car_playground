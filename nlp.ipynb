{
 "cells": [
  {
   "cell_type": "code",
   "execution_count": 43,
   "metadata": {},
   "outputs": [],
   "source": [
    "import numpy as np\n",
    "import pandas as pd\n",
    "from sklearn.model_selection import train_test_split\n"
   ]
  },
  {
   "cell_type": "code",
   "execution_count": 44,
   "metadata": {},
   "outputs": [],
   "source": [
    "df = pd.read_csv(\"usedcar.csv\")"
   ]
  },
  {
   "cell_type": "code",
   "execution_count": 45,
   "metadata": {},
   "outputs": [
    {
     "data": {
      "text/html": [
       "<div>\n",
       "<style scoped>\n",
       "    .dataframe tbody tr th:only-of-type {\n",
       "        vertical-align: middle;\n",
       "    }\n",
       "\n",
       "    .dataframe tbody tr th {\n",
       "        vertical-align: top;\n",
       "    }\n",
       "\n",
       "    .dataframe thead th {\n",
       "        text-align: right;\n",
       "    }\n",
       "</style>\n",
       "<table border=\"1\" class=\"dataframe\">\n",
       "  <thead>\n",
       "    <tr style=\"text-align: right;\">\n",
       "      <th></th>\n",
       "      <th>text</th>\n",
       "      <th>model</th>\n",
       "      <th>zip</th>\n",
       "      <th>price</th>\n",
       "      <th>mileage</th>\n",
       "    </tr>\n",
       "  </thead>\n",
       "  <tbody>\n",
       "    <tr>\n",
       "      <th>0</th>\n",
       "      <td>Used 2009 BMW 3 Series 328i Sedan RWD for sale...</td>\n",
       "      <td>c21411</td>\n",
       "      <td>10005</td>\n",
       "      <td>7,900</td>\n",
       "      <td>88,915</td>\n",
       "    </tr>\n",
       "    <tr>\n",
       "      <th>1</th>\n",
       "      <td>Used 2009 BMW 3 Series 328i Sedan RWD for sale...</td>\n",
       "      <td>c21411</td>\n",
       "      <td>10003</td>\n",
       "      <td>7,900</td>\n",
       "      <td>88,915</td>\n",
       "    </tr>\n",
       "    <tr>\n",
       "      <th>2</th>\n",
       "      <td>Used 2009 BMW 3 Series 328i Sedan RWD for sale...</td>\n",
       "      <td>c21411</td>\n",
       "      <td>10003</td>\n",
       "      <td>7,999</td>\n",
       "      <td>88,328</td>\n",
       "    </tr>\n",
       "    <tr>\n",
       "      <th>3</th>\n",
       "      <td>Used 2009 BMW 3 Series 328i Sedan RWD for sale...</td>\n",
       "      <td>c21411</td>\n",
       "      <td>10002</td>\n",
       "      <td>7,900</td>\n",
       "      <td>88,915</td>\n",
       "    </tr>\n",
       "    <tr>\n",
       "      <th>4</th>\n",
       "      <td>Used 2009 BMW 3 Series 328i Sedan RWD for sale...</td>\n",
       "      <td>c21411</td>\n",
       "      <td>10002</td>\n",
       "      <td>7,999</td>\n",
       "      <td>88,328</td>\n",
       "    </tr>\n",
       "  </tbody>\n",
       "</table>\n",
       "</div>"
      ],
      "text/plain": [
       "                                                text   model    zip  price  \\\n",
       "0  Used 2009 BMW 3 Series 328i Sedan RWD for sale...  c21411  10005  7,900   \n",
       "1  Used 2009 BMW 3 Series 328i Sedan RWD for sale...  c21411  10003  7,900   \n",
       "2  Used 2009 BMW 3 Series 328i Sedan RWD for sale...  c21411  10003  7,999   \n",
       "3  Used 2009 BMW 3 Series 328i Sedan RWD for sale...  c21411  10002  7,900   \n",
       "4  Used 2009 BMW 3 Series 328i Sedan RWD for sale...  c21411  10002  7,999   \n",
       "\n",
       "  mileage  \n",
       "0  88,915  \n",
       "1  88,915  \n",
       "2  88,328  \n",
       "3  88,915  \n",
       "4  88,328  "
      ]
     },
     "execution_count": 45,
     "metadata": {},
     "output_type": "execute_result"
    }
   ],
   "source": [
    "df.head()"
   ]
  },
  {
   "cell_type": "code",
   "execution_count": 46,
   "metadata": {},
   "outputs": [
    {
     "data": {
      "text/plain": [
       "text       0\n",
       "model      0\n",
       "zip        0\n",
       "price      0\n",
       "mileage    0\n",
       "dtype: int64"
      ]
     },
     "execution_count": 46,
     "metadata": {},
     "output_type": "execute_result"
    }
   ],
   "source": [
    "df.isna().sum()"
   ]
  },
  {
   "cell_type": "code",
   "execution_count": 47,
   "metadata": {},
   "outputs": [
    {
     "data": {
      "text/plain": [
       "text       object\n",
       "model      object\n",
       "zip         int64\n",
       "price      object\n",
       "mileage    object\n",
       "dtype: object"
      ]
     },
     "execution_count": 47,
     "metadata": {},
     "output_type": "execute_result"
    }
   ],
   "source": [
    "df.dtypes"
   ]
  },
  {
   "cell_type": "code",
   "execution_count": 48,
   "metadata": {},
   "outputs": [
    {
     "data": {
      "text/plain": [
       "text       object\n",
       "model       int32\n",
       "zip         int64\n",
       "price       int32\n",
       "mileage     int32\n",
       "dtype: object"
      ]
     },
     "execution_count": 48,
     "metadata": {},
     "output_type": "execute_result"
    }
   ],
   "source": [
    "df['price'] = df['price'].str.replace(',', '')\n",
    "df['mileage'] = df['mileage'].str.replace(',', '')\n",
    "df['model'] = df['model'].str.replace('c', '')\n",
    "\n",
    "df['price'] = df['price'].astype(int)\n",
    "df['mileage'] = df['mileage'].astype(int)\n",
    "df['model'] = df['model'].astype(int)\n",
    "\n",
    "df.dtypes"
   ]
  },
  {
   "cell_type": "code",
   "execution_count": 49,
   "metadata": {},
   "outputs": [],
   "source": [
    "x = df[['model','zip','mileage']]\n",
    "y = df['price']\n",
    "\n",
    "x_train, x_test, y_train, y_test = train_test_split(x, y, random_state=0)"
   ]
  },
  {
   "cell_type": "code",
   "execution_count": 50,
   "metadata": {},
   "outputs": [],
   "source": [
    "from sklearn.neighbors import KNeighborsClassifier\n",
    "\n",
    "knn = KNeighborsClassifier(n_neighbors = 1)"
   ]
  },
  {
   "cell_type": "code",
   "execution_count": 51,
   "metadata": {},
   "outputs": [
    {
     "data": {
      "text/plain": [
       "KNeighborsClassifier(n_neighbors=1)"
      ]
     },
     "execution_count": 51,
     "metadata": {},
     "output_type": "execute_result"
    }
   ],
   "source": [
    "knn.fit(x_train, y_train)"
   ]
  },
  {
   "cell_type": "code",
   "execution_count": 52,
   "metadata": {},
   "outputs": [
    {
     "data": {
      "text/plain": [
       "0.8861056384276198"
      ]
     },
     "execution_count": 52,
     "metadata": {},
     "output_type": "execute_result"
    }
   ],
   "source": [
    "knn.score(x_test, y_test)"
   ]
  },
  {
   "cell_type": "code",
   "execution_count": 53,
   "metadata": {},
   "outputs": [
    {
     "data": {
      "text/plain": [
       "11995"
      ]
     },
     "execution_count": 53,
     "metadata": {},
     "output_type": "execute_result"
    }
   ],
   "source": [
    "car_prediction = knn.predict([[21411, 11010, 40000]])\n",
    "car_prediction[0]"
   ]
  },
  {
   "cell_type": "code",
   "execution_count": 54,
   "metadata": {},
   "outputs": [
    {
     "data": {
      "text/plain": [
       "LinearRegression()"
      ]
     },
     "execution_count": 54,
     "metadata": {},
     "output_type": "execute_result"
    }
   ],
   "source": [
    "from sklearn.linear_model import LinearRegression\n",
    "lin_reg=LinearRegression()\n",
    "lin_reg.fit(x,y)"
   ]
  },
  {
   "cell_type": "code",
   "execution_count": 55,
   "metadata": {},
   "outputs": [
    {
     "data": {
      "text/plain": [
       "LinearRegression(n_jobs=1)"
      ]
     },
     "execution_count": 55,
     "metadata": {},
     "output_type": "execute_result"
    }
   ],
   "source": [
    "LinearRegression(copy_X=True, fit_intercept=True, n_jobs=1, normalize=False)\n"
   ]
  },
  {
   "cell_type": "code",
   "execution_count": 56,
   "metadata": {},
   "outputs": [
    {
     "data": {
      "text/plain": [
       "0.7497263305346933"
      ]
     },
     "execution_count": 56,
     "metadata": {},
     "output_type": "execute_result"
    }
   ],
   "source": [
    "lin_reg.score(x,y)"
   ]
  },
  {
   "cell_type": "code",
   "execution_count": 57,
   "metadata": {},
   "outputs": [
    {
     "data": {
      "text/plain": [
       "8467.601141765808"
      ]
     },
     "execution_count": 57,
     "metadata": {},
     "output_type": "execute_result"
    }
   ],
   "source": [
    "lin_reg.predict([[21411, 11010, 40000]])[0]"
   ]
  },
  {
   "cell_type": "code",
   "execution_count": 61,
   "metadata": {},
   "outputs": [],
   "source": [
    "from sklearn.feature_extraction.text import CountVectorizer\n",
    "from sklearn.feature_extraction.text import TfidfVectorizer\n",
    "from sklearn.preprocessing import LabelBinarizer\n",
    "from nltk.corpus import stopwords\n",
    "from nltk.stem.porter import PorterStemmer\n",
    "from wordcloud import WordCloud,STOPWORDS\n",
    "from nltk.stem import WordNetLemmatizer\n",
    "from nltk.tokenize import word_tokenize,sent_tokenize\n",
    "from nltk.tokenize.toktok import ToktokTokenizer\n",
    "from nltk.stem import LancasterStemmer,WordNetLemmatizer\n",
    "from nltk import pos_tag\n",
    "from nltk.corpus import wordnet\n",
    "import string"
   ]
  },
  {
   "cell_type": "code",
   "execution_count": 62,
   "metadata": {},
   "outputs": [
    {
     "data": {
      "text/html": [
       "<div>\n",
       "<style scoped>\n",
       "    .dataframe tbody tr th:only-of-type {\n",
       "        vertical-align: middle;\n",
       "    }\n",
       "\n",
       "    .dataframe tbody tr th {\n",
       "        vertical-align: top;\n",
       "    }\n",
       "\n",
       "    .dataframe thead th {\n",
       "        text-align: right;\n",
       "    }\n",
       "</style>\n",
       "<table border=\"1\" class=\"dataframe\">\n",
       "  <thead>\n",
       "    <tr style=\"text-align: right;\">\n",
       "      <th></th>\n",
       "      <th>text</th>\n",
       "      <th>price</th>\n",
       "    </tr>\n",
       "  </thead>\n",
       "  <tbody>\n",
       "    <tr>\n",
       "      <th>0</th>\n",
       "      <td>Used 2009 BMW 3 Series 328i Sedan RWD for sale...</td>\n",
       "      <td>7900</td>\n",
       "    </tr>\n",
       "    <tr>\n",
       "      <th>1</th>\n",
       "      <td>Used 2009 BMW 3 Series 328i Sedan RWD for sale...</td>\n",
       "      <td>7900</td>\n",
       "    </tr>\n",
       "    <tr>\n",
       "      <th>2</th>\n",
       "      <td>Used 2009 BMW 3 Series 328i Sedan RWD for sale...</td>\n",
       "      <td>7999</td>\n",
       "    </tr>\n",
       "    <tr>\n",
       "      <th>3</th>\n",
       "      <td>Used 2009 BMW 3 Series 328i Sedan RWD for sale...</td>\n",
       "      <td>7900</td>\n",
       "    </tr>\n",
       "    <tr>\n",
       "      <th>4</th>\n",
       "      <td>Used 2009 BMW 3 Series 328i Sedan RWD for sale...</td>\n",
       "      <td>7999</td>\n",
       "    </tr>\n",
       "    <tr>\n",
       "      <th>...</th>\n",
       "      <td>...</td>\n",
       "      <td>...</td>\n",
       "    </tr>\n",
       "    <tr>\n",
       "      <th>42628</th>\n",
       "      <td>Used 2015 Subaru Forester 2.5i Limited for sal...</td>\n",
       "      <td>17999</td>\n",
       "    </tr>\n",
       "    <tr>\n",
       "      <th>42629</th>\n",
       "      <td>Used 2015 Subaru Forester 2.5i Limited for sal...</td>\n",
       "      <td>17999</td>\n",
       "    </tr>\n",
       "    <tr>\n",
       "      <th>42630</th>\n",
       "      <td>Used 2015 Subaru Forester 2.5i Premium for sal...</td>\n",
       "      <td>15900</td>\n",
       "    </tr>\n",
       "    <tr>\n",
       "      <th>42631</th>\n",
       "      <td>Used 2015 Subaru Forester 2.5i Premium for sal...</td>\n",
       "      <td>14398</td>\n",
       "    </tr>\n",
       "    <tr>\n",
       "      <th>42632</th>\n",
       "      <td>Used 2015 Subaru Forester 2.5i Touring for sal...</td>\n",
       "      <td>17587</td>\n",
       "    </tr>\n",
       "  </tbody>\n",
       "</table>\n",
       "<p>42633 rows × 2 columns</p>\n",
       "</div>"
      ],
      "text/plain": [
       "                                                    text  price\n",
       "0      Used 2009 BMW 3 Series 328i Sedan RWD for sale...   7900\n",
       "1      Used 2009 BMW 3 Series 328i Sedan RWD for sale...   7900\n",
       "2      Used 2009 BMW 3 Series 328i Sedan RWD for sale...   7999\n",
       "3      Used 2009 BMW 3 Series 328i Sedan RWD for sale...   7900\n",
       "4      Used 2009 BMW 3 Series 328i Sedan RWD for sale...   7999\n",
       "...                                                  ...    ...\n",
       "42628  Used 2015 Subaru Forester 2.5i Limited for sal...  17999\n",
       "42629  Used 2015 Subaru Forester 2.5i Limited for sal...  17999\n",
       "42630  Used 2015 Subaru Forester 2.5i Premium for sal...  15900\n",
       "42631  Used 2015 Subaru Forester 2.5i Premium for sal...  14398\n",
       "42632  Used 2015 Subaru Forester 2.5i Touring for sal...  17587\n",
       "\n",
       "[42633 rows x 2 columns]"
      ]
     },
     "execution_count": 62,
     "metadata": {},
     "output_type": "execute_result"
    }
   ],
   "source": [
    "df.drop(columns=['model', 'zip','mileage'])"
   ]
  },
  {
   "cell_type": "code",
   "execution_count": 63,
   "metadata": {},
   "outputs": [],
   "source": [
    "stop = set(stopwords.words('english'))\n",
    "punctuation = list(string.punctuation)\n",
    "stop.update(punctuation)"
   ]
  },
  {
   "cell_type": "code",
   "execution_count": 64,
   "metadata": {},
   "outputs": [],
   "source": [
    "def get_simple_pos(tag):\n",
    "    if tag.startswith('J'):\n",
    "        return wordnet.ADJ\n",
    "    elif tag.startswith('V'):\n",
    "        return wordnet.VERB\n",
    "    elif tag.startswith('N'):\n",
    "        return wordnet.NOUN\n",
    "    elif tag.startswith('R'):\n",
    "        return wordnet.ADV\n",
    "    else:\n",
    "        return wordnet.NOUN"
   ]
  },
  {
   "cell_type": "code",
   "execution_count": 65,
   "metadata": {},
   "outputs": [],
   "source": [
    "lemmatizer = WordNetLemmatizer()\n",
    "def lemmatize_words(text):\n",
    "    final_text = []\n",
    "    for i in text.split():\n",
    "        if i.strip().lower() not in stop:\n",
    "            pos = pos_tag([i.strip()])\n",
    "            word = lemmatizer.lemmatize(i.strip(),get_simple_pos(pos[0][1]))\n",
    "            final_text.append(word.lower())\n",
    "    return \" \".join(final_text)"
   ]
  },
  {
   "cell_type": "code",
   "execution_count": 66,
   "metadata": {},
   "outputs": [],
   "source": [
    "df.text = df.text.apply(lemmatize_words)"
   ]
  },
  {
   "cell_type": "code",
   "execution_count": 67,
   "metadata": {},
   "outputs": [
    {
     "data": {
      "text/html": [
       "<div>\n",
       "<style scoped>\n",
       "    .dataframe tbody tr th:only-of-type {\n",
       "        vertical-align: middle;\n",
       "    }\n",
       "\n",
       "    .dataframe tbody tr th {\n",
       "        vertical-align: top;\n",
       "    }\n",
       "\n",
       "    .dataframe thead th {\n",
       "        text-align: right;\n",
       "    }\n",
       "</style>\n",
       "<table border=\"1\" class=\"dataframe\">\n",
       "  <thead>\n",
       "    <tr style=\"text-align: right;\">\n",
       "      <th></th>\n",
       "      <th>text</th>\n",
       "      <th>model</th>\n",
       "      <th>zip</th>\n",
       "      <th>price</th>\n",
       "      <th>mileage</th>\n",
       "    </tr>\n",
       "  </thead>\n",
       "  <tbody>\n",
       "    <tr>\n",
       "      <th>0</th>\n",
       "      <td>used 2009 bmw 3 series 328i sedan rwd sale $7,...</td>\n",
       "      <td>21411</td>\n",
       "      <td>10005</td>\n",
       "      <td>7900</td>\n",
       "      <td>88915</td>\n",
       "    </tr>\n",
       "    <tr>\n",
       "      <th>1</th>\n",
       "      <td>used 2009 bmw 3 series 328i sedan rwd sale $7,...</td>\n",
       "      <td>21411</td>\n",
       "      <td>10003</td>\n",
       "      <td>7900</td>\n",
       "      <td>88915</td>\n",
       "    </tr>\n",
       "    <tr>\n",
       "      <th>2</th>\n",
       "      <td>used 2009 bmw 3 series 328i sedan rwd sale $7,...</td>\n",
       "      <td>21411</td>\n",
       "      <td>10003</td>\n",
       "      <td>7999</td>\n",
       "      <td>88328</td>\n",
       "    </tr>\n",
       "    <tr>\n",
       "      <th>3</th>\n",
       "      <td>used 2009 bmw 3 series 328i sedan rwd sale $7,...</td>\n",
       "      <td>21411</td>\n",
       "      <td>10002</td>\n",
       "      <td>7900</td>\n",
       "      <td>88915</td>\n",
       "    </tr>\n",
       "    <tr>\n",
       "      <th>4</th>\n",
       "      <td>used 2009 bmw 3 series 328i sedan rwd sale $7,...</td>\n",
       "      <td>21411</td>\n",
       "      <td>10002</td>\n",
       "      <td>7999</td>\n",
       "      <td>88328</td>\n",
       "    </tr>\n",
       "  </tbody>\n",
       "</table>\n",
       "</div>"
      ],
      "text/plain": [
       "                                                text  model    zip  price  \\\n",
       "0  used 2009 bmw 3 series 328i sedan rwd sale $7,...  21411  10005   7900   \n",
       "1  used 2009 bmw 3 series 328i sedan rwd sale $7,...  21411  10003   7900   \n",
       "2  used 2009 bmw 3 series 328i sedan rwd sale $7,...  21411  10003   7999   \n",
       "3  used 2009 bmw 3 series 328i sedan rwd sale $7,...  21411  10002   7900   \n",
       "4  used 2009 bmw 3 series 328i sedan rwd sale $7,...  21411  10002   7999   \n",
       "\n",
       "   mileage  \n",
       "0    88915  \n",
       "1    88915  \n",
       "2    88328  \n",
       "3    88915  \n",
       "4    88328  "
      ]
     },
     "execution_count": 67,
     "metadata": {},
     "output_type": "execute_result"
    }
   ],
   "source": [
    "df.head()"
   ]
  },
  {
   "cell_type": "code",
   "execution_count": 68,
   "metadata": {},
   "outputs": [
    {
     "data": {
      "text/plain": [
       "0        used 2009 bmw 3 series 328i sedan rwd sale $7,...\n",
       "1        used 2009 bmw 3 series 328i sedan rwd sale $7,...\n",
       "2        used 2009 bmw 3 series 328i sedan rwd sale $7,...\n",
       "3        used 2009 bmw 3 series 328i sedan rwd sale $7,...\n",
       "4        used 2009 bmw 3 series 328i sedan rwd sale $7,...\n",
       "                               ...                        \n",
       "42628    used 2015 subaru forester 2.5i limited sale $1...\n",
       "42629    used 2015 subaru forester 2.5i limited sale $1...\n",
       "42630    used 2015 subaru forester 2.5i premium sale $1...\n",
       "42631    used 2015 subaru forester 2.5i premium sale $1...\n",
       "42632    used 2015 subaru forester 2.5i touring sale $1...\n",
       "Name: text, Length: 42633, dtype: object"
      ]
     },
     "execution_count": 68,
     "metadata": {},
     "output_type": "execute_result"
    }
   ],
   "source": [
    "df.text"
   ]
  },
  {
   "cell_type": "code",
   "execution_count": null,
   "metadata": {},
   "outputs": [],
   "source": []
  },
  {
   "cell_type": "code",
   "execution_count": null,
   "metadata": {},
   "outputs": [],
   "source": []
  }
 ],
 "metadata": {
  "kernelspec": {
   "display_name": "Python 3",
   "language": "python",
   "name": "python3"
  },
  "language_info": {
   "codemirror_mode": {
    "name": "ipython",
    "version": 3
   },
   "file_extension": ".py",
   "mimetype": "text/x-python",
   "name": "python",
   "nbconvert_exporter": "python",
   "pygments_lexer": "ipython3",
   "version": "3.7.6"
  }
 },
 "nbformat": 4,
 "nbformat_minor": 4
}
