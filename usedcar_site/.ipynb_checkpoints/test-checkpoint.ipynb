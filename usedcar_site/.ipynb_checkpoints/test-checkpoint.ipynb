{
 "cells": [
  {
   "cell_type": "code",
   "execution_count": 5,
   "metadata": {},
   "outputs": [
    {
     "ename": "ImportError",
     "evalue": "attempted relative import with no known parent package",
     "output_type": "error",
     "traceback": [
      "\u001b[1;31m---------------------------------------------------------------------------\u001b[0m",
      "\u001b[1;31mImportError\u001b[0m                               Traceback (most recent call last)",
      "\u001b[1;32m<ipython-input-5-e4e0be42b1cc>\u001b[0m in \u001b[0;36m<module>\u001b[1;34m\u001b[0m\n\u001b[0;32m      5\u001b[0m \u001b[1;32mimport\u001b[0m \u001b[0mjson\u001b[0m\u001b[1;33m\u001b[0m\u001b[1;33m\u001b[0m\u001b[0m\n\u001b[0;32m      6\u001b[0m \u001b[1;32mimport\u001b[0m \u001b[0mnumpy\u001b[0m \u001b[1;32mas\u001b[0m \u001b[0mnp\u001b[0m\u001b[1;33m\u001b[0m\u001b[1;33m\u001b[0m\u001b[0m\n\u001b[1;32m----> 7\u001b[1;33m \u001b[1;32mfrom\u001b[0m \u001b[1;33m.\u001b[0m\u001b[0mbokeh_plot\u001b[0m \u001b[1;32mimport\u001b[0m \u001b[0mplot\u001b[0m\u001b[1;33m\u001b[0m\u001b[1;33m\u001b[0m\u001b[0m\n\u001b[0m\u001b[0;32m      8\u001b[0m \u001b[1;32mfrom\u001b[0m \u001b[0mdjango\u001b[0m\u001b[1;33m.\u001b[0m\u001b[0mapps\u001b[0m \u001b[1;32mimport\u001b[0m \u001b[0mapps\u001b[0m\u001b[1;33m\u001b[0m\u001b[1;33m\u001b[0m\u001b[0m\n",
      "\u001b[1;31mImportError\u001b[0m: attempted relative import with no known parent package"
     ]
    }
   ],
   "source": [
    "import geopandas as gpd\n",
    "from shapely.geometry import Point, Polygon\n",
    "import matplotlib.pyplot as plt\n",
    "import pandas as pd\n",
    "import json\n",
    "import numpy as np\n",
    "from .bokeh_plot import plot\n",
    "from django.apps import apps"
   ]
  },
  {
   "cell_type": "code",
   "execution_count": 1,
   "metadata": {},
   "outputs": [
    {
     "ename": "NameError",
     "evalue": "name 'gpd' is not defined",
     "output_type": "error",
     "traceback": [
      "\u001b[1;31m---------------------------------------------------------------------------\u001b[0m",
      "\u001b[1;31mNameError\u001b[0m                                 Traceback (most recent call last)",
      "\u001b[1;32m<ipython-input-1-7c6d540b63dd>\u001b[0m in \u001b[0;36m<module>\u001b[1;34m\u001b[0m\n\u001b[1;32m----> 1\u001b[1;33m \u001b[0musa\u001b[0m \u001b[1;33m=\u001b[0m \u001b[0mgpd\u001b[0m\u001b[1;33m.\u001b[0m\u001b[0mread_file\u001b[0m\u001b[1;33m(\u001b[0m\u001b[1;34m'zipcodes.shp'\u001b[0m\u001b[1;33m)\u001b[0m\u001b[1;33m\u001b[0m\u001b[1;33m\u001b[0m\u001b[0m\n\u001b[0m\u001b[0;32m      2\u001b[0m \u001b[0musa\u001b[0m \u001b[1;33m=\u001b[0m \u001b[0musa\u001b[0m\u001b[1;33m.\u001b[0m\u001b[0mset_index\u001b[0m\u001b[1;33m(\u001b[0m\u001b[1;34m'ZIP_CODE'\u001b[0m\u001b[1;33m)\u001b[0m\u001b[1;33m\u001b[0m\u001b[1;33m\u001b[0m\u001b[0m\n\u001b[0;32m      3\u001b[0m \u001b[1;33m\u001b[0m\u001b[0m\n\u001b[0;32m      4\u001b[0m \u001b[0mny\u001b[0m \u001b[1;33m=\u001b[0m \u001b[0musa\u001b[0m\u001b[1;33m[\u001b[0m\u001b[0musa\u001b[0m\u001b[1;33m[\u001b[0m\u001b[1;34m'STATE'\u001b[0m\u001b[1;33m]\u001b[0m \u001b[1;33m==\u001b[0m \u001b[1;34m'NY'\u001b[0m\u001b[1;33m]\u001b[0m\u001b[1;33m\u001b[0m\u001b[1;33m\u001b[0m\u001b[0m\n",
      "\u001b[1;31mNameError\u001b[0m: name 'gpd' is not defined"
     ]
    }
   ],
   "source": [
    "usa = gpd.read_file('zipcodes.shp')\n",
    "usa = usa.set_index('ZIP_CODE')\n",
    "\n",
    "ny = usa[usa['STATE'] == 'NY']"
   ]
  },
  {
   "cell_type": "code",
   "execution_count": null,
   "metadata": {},
   "outputs": [],
   "source": [
    "\n",
    "\n",
    "# Plot NY Map using GeoPandas\n",
    "# ny.plot()\n",
    "\n",
    "Record = apps.get_model('scrap','Record')\n",
    "records = Record.objects.all()\n",
    "data = pd.DataFrame(columns=['model','zip','price','mileage'], dtype=str)\n",
    "\n",
    "for i in records:\n",
    "    data = data.append({'model':i.model, 'zip':i.zip_code, 'price':i.price, 'mileage':i.mileage},ignore_index=True)\n",
    "ny.insert(3,'Points',np.NaN)\n",
    "\n",
    "models = data.model.unique()\n",
    "\n",
    "#first collect data and calculate avg price\n",
    "#then put into dataframe\n",
    "avg_price = {}\n",
    "counter = {}\n",
    "\n",
    "#initialize\n",
    "for _,car in data.iterrows():\n",
    "    zip_code = car['zip']\n",
    "    avg_price[zip_code] = {}\n",
    "    counter[zip_code] = {}\n",
    "for _,car in data.iterrows():\n",
    "    zip_code = car['zip']\n",
    "    avg_price[zip_code][car['model']] = 0\n",
    "    counter[zip_code][car['model']] = 0\n",
    "\n",
    "for _,car in data.iterrows():\n",
    "    avg_price[car['zip']][car['model']] += car['price']\n",
    "    counter[car['zip']][car['model']] += 1\n",
    "\n",
    "for i in avg_price:\n",
    "    for j in avg_price[i]:\n",
    "        avg_price[i][j] /= counter[i][j]\n",
    "#normalize values for each model\n",
    "max_values = {}\n",
    "min_values = {}\n",
    "#init\n",
    "for i in avg_price:\n",
    "    for j in avg_price[i]:\n",
    "        max_values[j] = 0\n",
    "        min_values[j] = 99999\n",
    "\n",
    "for i in avg_price:\n",
    "    for j in avg_price[i]:\n",
    "        price = avg_price[i][j]\n",
    "        max_values[j] = max(max_values[j], price)\n",
    "        #skip 0 (not exist)\n",
    "        if price == 0:\n",
    "            continue\n",
    "        min_values[j] = min(min_values[j], price)\n",
    "\n",
    "for i in avg_price:\n",
    "    for j in avg_price[i]:\n",
    "        if avg_price[i][j] == 0:\n",
    "            continue\n",
    "        avg_price[i][j] = (avg_price[i][j] - min_values[j])/(max_values[j] - min_values[j])\n",
    "\n",
    "#calculate weighted points\n",
    "weighted_points = {}\n",
    "for i in avg_price:\n",
    "    weighted_points[i] = 0\n",
    "\n",
    "for i in avg_price:\n",
    "    counter = 0\n",
    "    for j in avg_price[i]:\n",
    "        if avg_price[i][j] == 0:\n",
    "            continue\n",
    "        counter += 1\n",
    "        weighted_points[i] += avg_price[i][j]\n",
    "    if counter is not 0:\n",
    "        weighted_points[i] /= counter\n",
    "    else:\n",
    "        weighted_points[i] = np.nan\n",
    "\n",
    "for i in weighted_points:\n",
    "    test = ny[i]\n",
    "    ny.loc[ny[i], 'Points'] = weighted_points[i]"
   ]
  }
 ],
 "metadata": {
  "kernelspec": {
   "display_name": "Python 3",
   "language": "python",
   "name": "python3"
  },
  "language_info": {
   "codemirror_mode": {
    "name": "ipython",
    "version": 3
   },
   "file_extension": ".py",
   "mimetype": "text/x-python",
   "name": "python",
   "nbconvert_exporter": "python",
   "pygments_lexer": "ipython3",
   "version": "3.7.6"
  }
 },
 "nbformat": 4,
 "nbformat_minor": 4
}
